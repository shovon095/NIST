{
 "cells": [
  {
   "cell_type": "code",
   "execution_count": 5,
   "metadata": {},
   "outputs": [
    {
     "name": "stdout",
     "output_type": "stream",
     "text": [
      "Results saved to C:/Users/shouv/Desktop/Research/NIST/nist_formatted_results_02.csv\n"
     ]
    }
   ],
   "source": [
    "import pandas as pd\n",
    "\n",
    "# Load the provided CSV file\n",
    "input_file_path = \"C:/Users/shouv/Desktop/Research/NIST/results.csv\"\n",
    "df = pd.read_csv(input_file_path)\n",
    "\n",
    "# Define the additional required columns\n",
    "dataset_id = 'GenAI24-NIST-pilot-T2T-D-set-1'\n",
    "task_id = 'detection'\n",
    "discriminator_id = 'PVAMU-Credit'\n",
    "model_version = '1.0'\n",
    "\n",
    "# Add .txt to each FileID\n",
    "df['File Number'] = df['File Number'].astype(str) + '.txt'\n",
    "\n",
    "# Map the confidence scores correctly and add the necessary columns\n",
    "df_nist = pd.DataFrame({\n",
    "    'DatasetID': dataset_id,\n",
    "    'TaskID': task_id,\n",
    "    'DiscriminatorID': discriminator_id,\n",
    "    'ModelVersion': model_version,\n",
    "    'FileID': df['File Number'],\n",
    "    'ConfidenceScore': df['Confidence Score']\n",
    "})\n",
    "\n",
    "# Save the new DataFrame to a CSV file with '|' as the delimiter\n",
    "output_file_path = 'C:/Users/shouv/Desktop/Research/NIST/nist_formatted_results_02.csv'\n",
    "df_nist.to_csv(output_file_path, index=False, sep='|')\n",
    "\n",
    "print(f\"Results saved to {output_file_path}\")\n",
    "\n",
    "\n"
   ]
  },
  {
   "cell_type": "code",
   "execution_count": 2,
   "metadata": {},
   "outputs": [
    {
     "name": "stdout",
     "output_type": "stream",
     "text": [
      "Missing FileIDs:\n"
     ]
    }
   ],
   "source": [
    "import pandas as pd\n",
    "\n",
    "# Load the index file\n",
    "index_file_path = 'C:/Users/shouv/Desktop/Research/NIST/index.csv'\n",
    "index_df = pd.read_csv(index_file_path, delimiter='|')\n",
    "\n",
    "# Load the NIST formatted results file\n",
    "results_file_path = 'C:/Users/shouv/Desktop/Research/NIST/nist_formatted_results_02.csv'\n",
    "results_df = pd.read_csv(results_file_path, delimiter='|')\n",
    "\n",
    "# Extract the FileID columns from both DataFrames\n",
    "index_file_ids = set(index_df['FileID'])\n",
    "results_file_ids = set(results_df['FileID'])\n",
    "\n",
    "# Find the missing FileIDs\n",
    "missing_file_ids = index_file_ids - results_file_ids\n",
    "\n",
    "# Print the missing FileIDs\n",
    "print(\"Missing FileIDs:\")\n",
    "for file_id in missing_file_ids:\n",
    "    print(file_id)\n"
   ]
  }
 ],
 "metadata": {
  "kernelspec": {
   "display_name": "Python 3",
   "language": "python",
   "name": "python3"
  },
  "language_info": {
   "codemirror_mode": {
    "name": "ipython",
    "version": 3
   },
   "file_extension": ".py",
   "mimetype": "text/x-python",
   "name": "python",
   "nbconvert_exporter": "python",
   "pygments_lexer": "ipython3",
   "version": "3.10.11"
  }
 },
 "nbformat": 4,
 "nbformat_minor": 2
}
